{
 "cells": [
  {
   "cell_type": "code",
   "execution_count": 1,
   "id": "a0176d0a-9699-44ef-ba3f-055a07fcc15a",
   "metadata": {
    "tags": []
   },
   "outputs": [],
   "source": [
    "import pandas as pd"
   ]
  },
  {
   "cell_type": "code",
   "execution_count": 2,
   "id": "410cb1bd-6dfe-4365-a3c2-0b37f622b6b4",
   "metadata": {
    "tags": []
   },
   "outputs": [
    {
     "data": {
      "text/plain": [
       "'C:\\\\Users\\\\mr000103\\\\python\\\\fertiliser'"
      ]
     },
     "execution_count": 2,
     "metadata": {},
     "output_type": "execute_result"
    }
   ],
   "source": [
    "# print working directory\n",
    "%pwd"
   ]
  },
  {
   "cell_type": "code",
   "execution_count": 5,
   "id": "0910cadc-6fe9-4548-8fd3-043b19eedfa2",
   "metadata": {
    "tags": []
   },
   "outputs": [],
   "source": [
    "# read in comtrade fertiliser exports to world\n",
    "comtrade_fert_exp_to_world = pd.read_csv(\"input_data/comtrade_fertiliser_exports_to_world.csv\")"
   ]
  },
  {
   "cell_type": "code",
   "execution_count": 12,
   "id": "dce71655-e9e5-485e-acb8-a50c0d6ed838",
   "metadata": {
    "tags": []
   },
   "outputs": [
    {
     "data": {
      "text/html": [
       "<div>\n",
       "<style scoped>\n",
       "    .dataframe tbody tr th:only-of-type {\n",
       "        vertical-align: middle;\n",
       "    }\n",
       "\n",
       "    .dataframe tbody tr th {\n",
       "        vertical-align: top;\n",
       "    }\n",
       "\n",
       "    .dataframe thead th {\n",
       "        text-align: right;\n",
       "    }\n",
       "</style>\n",
       "<table border=\"1\" class=\"dataframe\">\n",
       "  <thead>\n",
       "    <tr style=\"text-align: right;\">\n",
       "      <th></th>\n",
       "      <th>TypeCode</th>\n",
       "      <th>FreqCode</th>\n",
       "      <th>RefPeriodId</th>\n",
       "      <th>RefYear</th>\n",
       "      <th>RefMonth</th>\n",
       "      <th>Period</th>\n",
       "      <th>ReporterCode</th>\n",
       "      <th>ReporterISO</th>\n",
       "      <th>ReporterDesc</th>\n",
       "      <th>FlowCode</th>\n",
       "      <th>...</th>\n",
       "      <th>NetWgt</th>\n",
       "      <th>IsNetWgtEstimated</th>\n",
       "      <th>GrossWgt</th>\n",
       "      <th>IsGrossWgtEstimated</th>\n",
       "      <th>Cifvalue</th>\n",
       "      <th>Fobvalue</th>\n",
       "      <th>PrimaryValue</th>\n",
       "      <th>LegacyEstimationFlag</th>\n",
       "      <th>IsReported</th>\n",
       "      <th>IsAggregate</th>\n",
       "    </tr>\n",
       "  </thead>\n",
       "  <tbody>\n",
       "    <tr>\n",
       "      <th>0</th>\n",
       "      <td>C</td>\n",
       "      <td>A</td>\n",
       "      <td>20210101</td>\n",
       "      <td>2021</td>\n",
       "      <td>52</td>\n",
       "      <td>2021</td>\n",
       "      <td>97</td>\n",
       "      <td>EUR</td>\n",
       "      <td>European Union</td>\n",
       "      <td>X</td>\n",
       "      <td>...</td>\n",
       "      <td>1.839216e+09</td>\n",
       "      <td>True</td>\n",
       "      <td>0</td>\n",
       "      <td>False</td>\n",
       "      <td>NaN</td>\n",
       "      <td>6.131576e+08</td>\n",
       "      <td>6.131576e+08</td>\n",
       "      <td>6</td>\n",
       "      <td>False</td>\n",
       "      <td>True</td>\n",
       "    </tr>\n",
       "    <tr>\n",
       "      <th>1</th>\n",
       "      <td>C</td>\n",
       "      <td>A</td>\n",
       "      <td>20210101</td>\n",
       "      <td>2021</td>\n",
       "      <td>52</td>\n",
       "      <td>2021</td>\n",
       "      <td>97</td>\n",
       "      <td>EUR</td>\n",
       "      <td>European Union</td>\n",
       "      <td>X</td>\n",
       "      <td>...</td>\n",
       "      <td>7.458724e+08</td>\n",
       "      <td>True</td>\n",
       "      <td>0</td>\n",
       "      <td>False</td>\n",
       "      <td>NaN</td>\n",
       "      <td>2.888812e+08</td>\n",
       "      <td>2.888812e+08</td>\n",
       "      <td>6</td>\n",
       "      <td>False</td>\n",
       "      <td>True</td>\n",
       "    </tr>\n",
       "    <tr>\n",
       "      <th>2</th>\n",
       "      <td>C</td>\n",
       "      <td>A</td>\n",
       "      <td>20210101</td>\n",
       "      <td>2021</td>\n",
       "      <td>52</td>\n",
       "      <td>2021</td>\n",
       "      <td>826</td>\n",
       "      <td>GBR</td>\n",
       "      <td>United Kingdom</td>\n",
       "      <td>X</td>\n",
       "      <td>...</td>\n",
       "      <td>0.000000e+00</td>\n",
       "      <td>False</td>\n",
       "      <td>0</td>\n",
       "      <td>False</td>\n",
       "      <td>0.0</td>\n",
       "      <td>1.174935e+07</td>\n",
       "      <td>1.174935e+07</td>\n",
       "      <td>0</td>\n",
       "      <td>False</td>\n",
       "      <td>True</td>\n",
       "    </tr>\n",
       "    <tr>\n",
       "      <th>3</th>\n",
       "      <td>C</td>\n",
       "      <td>A</td>\n",
       "      <td>20210101</td>\n",
       "      <td>2021</td>\n",
       "      <td>52</td>\n",
       "      <td>2021</td>\n",
       "      <td>826</td>\n",
       "      <td>GBR</td>\n",
       "      <td>United Kingdom</td>\n",
       "      <td>X</td>\n",
       "      <td>...</td>\n",
       "      <td>1.615509e+08</td>\n",
       "      <td>False</td>\n",
       "      <td>0</td>\n",
       "      <td>False</td>\n",
       "      <td>0.0</td>\n",
       "      <td>5.027642e+07</td>\n",
       "      <td>5.027642e+07</td>\n",
       "      <td>0</td>\n",
       "      <td>False</td>\n",
       "      <td>True</td>\n",
       "    </tr>\n",
       "    <tr>\n",
       "      <th>4</th>\n",
       "      <td>C</td>\n",
       "      <td>A</td>\n",
       "      <td>20220101</td>\n",
       "      <td>2022</td>\n",
       "      <td>52</td>\n",
       "      <td>2022</td>\n",
       "      <td>97</td>\n",
       "      <td>EUR</td>\n",
       "      <td>European Union</td>\n",
       "      <td>X</td>\n",
       "      <td>...</td>\n",
       "      <td>1.553076e+09</td>\n",
       "      <td>True</td>\n",
       "      <td>0</td>\n",
       "      <td>False</td>\n",
       "      <td>NaN</td>\n",
       "      <td>1.010012e+09</td>\n",
       "      <td>1.010012e+09</td>\n",
       "      <td>6</td>\n",
       "      <td>False</td>\n",
       "      <td>True</td>\n",
       "    </tr>\n",
       "  </tbody>\n",
       "</table>\n",
       "<p>5 rows × 47 columns</p>\n",
       "</div>"
      ],
      "text/plain": [
       "  TypeCode FreqCode  RefPeriodId  RefYear  RefMonth  Period  ReporterCode  \\\n",
       "0        C        A     20210101     2021        52    2021            97   \n",
       "1        C        A     20210101     2021        52    2021            97   \n",
       "2        C        A     20210101     2021        52    2021           826   \n",
       "3        C        A     20210101     2021        52    2021           826   \n",
       "4        C        A     20220101     2022        52    2022            97   \n",
       "\n",
       "  ReporterISO    ReporterDesc FlowCode  ...        NetWgt  IsNetWgtEstimated  \\\n",
       "0         EUR  European Union        X  ...  1.839216e+09               True   \n",
       "1         EUR  European Union        X  ...  7.458724e+08               True   \n",
       "2         GBR  United Kingdom        X  ...  0.000000e+00              False   \n",
       "3         GBR  United Kingdom        X  ...  1.615509e+08              False   \n",
       "4         EUR  European Union        X  ...  1.553076e+09               True   \n",
       "\n",
       "  GrossWgt IsGrossWgtEstimated  Cifvalue      Fobvalue  PrimaryValue  \\\n",
       "0        0               False       NaN  6.131576e+08  6.131576e+08   \n",
       "1        0               False       NaN  2.888812e+08  2.888812e+08   \n",
       "2        0               False       0.0  1.174935e+07  1.174935e+07   \n",
       "3        0               False       0.0  5.027642e+07  5.027642e+07   \n",
       "4        0               False       NaN  1.010012e+09  1.010012e+09   \n",
       "\n",
       "  LegacyEstimationFlag IsReported  IsAggregate  \n",
       "0                    6      False         True  \n",
       "1                    6      False         True  \n",
       "2                    0      False         True  \n",
       "3                    0      False         True  \n",
       "4                    6      False         True  \n",
       "\n",
       "[5 rows x 47 columns]"
      ]
     },
     "execution_count": 12,
     "metadata": {},
     "output_type": "execute_result"
    }
   ],
   "source": [
    "comtrade_fert_exp_to_world.head()"
   ]
  },
  {
   "cell_type": "code",
   "execution_count": null,
   "id": "24e3b79f-ebe2-4c20-85d5-c70040663ff9",
   "metadata": {},
   "outputs": [],
   "source": [
    "# we want to keep:\n",
    "# year = Period;\n",
    "# country = ReporterDesc;\n",
    "# country_code = ReporterCode;\n",
    "# country_iso3 = ReporterISO;\n",
    "# flow = FlowCode; #and change this value from \"X\" to \"export\"\n",
    "# volume_tonnes = NetWgt;\n",
    "# value_usd = PrimaryValue"
   ]
  },
  {
   "cell_type": "code",
   "execution_count": 10,
   "id": "c6e0ecd5-6872-448f-a85b-7838bb49ed95",
   "metadata": {
    "tags": []
   },
   "outputs": [],
   "source": [
    "# read in the comtrade fertiliser imports data\n",
    "comtrade_fert_imports = pd.read_csv(\"input_data/comtrade_fertiliser_imports.csv\")"
   ]
  },
  {
   "cell_type": "code",
   "execution_count": 11,
   "id": "4867c09c-5671-4648-b321-645b8aef57ce",
   "metadata": {
    "tags": []
   },
   "outputs": [],
   "source": [
    "# read in the FAOSTAT fertiliser production and use data\n",
    "faostat_fert_prod_use = pd.read_csv(\"input_data/faostat_fertiliser_production_and_use.csv\")"
   ]
  },
  {
   "cell_type": "code",
   "execution_count": null,
   "id": "21b551a0-c4e2-468c-bd1e-0e8c02861497",
   "metadata": {},
   "outputs": [],
   "source": [
    "# drop unnecessary columns\n"
   ]
  },
  {
   "cell_type": "code",
   "execution_count": null,
   "id": "ceaf48b1-1c46-4a3a-a49f-f74b48ee7992",
   "metadata": {},
   "outputs": [],
   "source": [
    "# check units are consistent"
   ]
  },
  {
   "cell_type": "code",
   "execution_count": null,
   "id": "4586fecd-3525-48d2-aa2f-671a544cf1da",
   "metadata": {},
   "outputs": [],
   "source": [
    "# join the dataframes together"
   ]
  },
  {
   "cell_type": "code",
   "execution_count": null,
   "id": "79a50026-0ed0-451f-a802-0d79576d8f92",
   "metadata": {},
   "outputs": [],
   "source": [
    "# summarise / aggregate over time to create average values"
   ]
  },
  {
   "cell_type": "code",
   "execution_count": null,
   "id": "3bf81f86-d2e0-4b6d-ad10-e6503d2bb74e",
   "metadata": {},
   "outputs": [],
   "source": [
    "# define the objects needed to plug in to the model"
   ]
  }
 ],
 "metadata": {
  "kernelspec": {
   "display_name": "Python 3 (ipykernel)",
   "language": "python",
   "name": "python3"
  },
  "language_info": {
   "codemirror_mode": {
    "name": "ipython",
    "version": 3
   },
   "file_extension": ".py",
   "mimetype": "text/x-python",
   "name": "python",
   "nbconvert_exporter": "python",
   "pygments_lexer": "ipython3",
   "version": "3.7.4"
  }
 },
 "nbformat": 4,
 "nbformat_minor": 5
}
